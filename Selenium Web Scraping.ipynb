{
 "cells": [
  {
   "cell_type": "markdown",
   "id": "dc9aca9d",
   "metadata": {},
   "source": [
    "## Installing Libraries"
   ]
  },
  {
   "cell_type": "code",
   "execution_count": 1,
   "id": "a05c9a16",
   "metadata": {},
   "outputs": [],
   "source": [
    "#!pip install selenium"
   ]
  },
  {
   "cell_type": "markdown",
   "id": "a4632256",
   "metadata": {},
   "source": [
    "## Below code will  run  through SRO and Registration Year and store it in dataframe and subsequently store it in an excel file. "
   ]
  },
  {
   "cell_type": "code",
   "execution_count": 8,
   "id": "021dda56",
   "metadata": {
    "scrolled": true
   },
   "outputs": [
    {
     "name": "stderr",
     "output_type": "stream",
     "text": [
      "C:\\Users\\91864\\AppData\\Local\\Temp/ipykernel_1560/3024140912.py:7: DeprecationWarning: executable_path has been deprecated, please pass in a Service object\n",
      "  webD=wb.Chrome('chromedriver.exe')\n"
     ]
    }
   ],
   "source": [
    "import selenium\n",
    "import time\n",
    "import pandas as pd\n",
    "from selenium import webdriver as wb\n",
    "from selenium.webdriver.common.by import By\n",
    "from selenium.webdriver.support.select import Select\n",
    "webD=wb.Chrome('chromedriver.exe')\n",
    "webD.get(\"https://esearch.delhigovt.nic.in/Complete_search.aspx\")\n",
    "elements=webD.find_element(By.NAME,\"ctl00$ContentPlaceHolder1$ddl_sro_s\")\n",
    "drp=Select(elements) \n",
    "drp.select_by_index(1)\n",
    "elements1=webD.find_element(By.NAME,\"ctl00$ContentPlaceHolder1$ddl_year_s\")\n",
    "drp=Select(elements1) \n",
    "drp.select_by_index(2)\n",
    "\n",
    "SRO=[]\n",
    "YEAR=[]\n",
    "LOCATION=[]\n",
    "element=webD.find_element(By.NAME,\"ctl00$ContentPlaceHolder1$ddl_sro_s\").text\n",
    "#print(element)\n",
    "sro=(list(element.split('\\n'))[1])\n",
    "element1=webD.find_element(By.NAME,\"ctl00$ContentPlaceHolder1$ddl_year_s\").text\n",
    "year=(list(element1.split('\\n '))[2])\n",
    "element2=webD.find_element(By.NAME,\"ctl00$ContentPlaceHolder1$ddl_loc_s\").text\n",
    "location=(element2.split('\\n'))\n",
    "for i in range(1,393):\n",
    "    LOCATION.append(location[i])\n",
    "    YEAR.append(year)\n",
    "    SRO.append(sro)\n",
    "Data=pd.DataFrame({'SRO':SRO,'YEAR':YEAR,'LOCATION':LOCATION})  \n",
    "Data.to_csv('Web_Scrap.csv')"
   ]
  },
  {
   "cell_type": "code",
   "execution_count": 2,
   "id": "9ec0dd35",
   "metadata": {},
   "outputs": [
    {
     "data": {
      "text/html": [
       "<div>\n",
       "<style scoped>\n",
       "    .dataframe tbody tr th:only-of-type {\n",
       "        vertical-align: middle;\n",
       "    }\n",
       "\n",
       "    .dataframe tbody tr th {\n",
       "        vertical-align: top;\n",
       "    }\n",
       "\n",
       "    .dataframe thead th {\n",
       "        text-align: right;\n",
       "    }\n",
       "</style>\n",
       "<table border=\"1\" class=\"dataframe\">\n",
       "  <thead>\n",
       "    <tr style=\"text-align: right;\">\n",
       "      <th></th>\n",
       "      <th>SRO</th>\n",
       "      <th>YEAR</th>\n",
       "      <th>LOCATION</th>\n",
       "    </tr>\n",
       "  </thead>\n",
       "  <tbody>\n",
       "    <tr>\n",
       "      <th>0</th>\n",
       "      <td>Central -Asaf Ali (SR III)</td>\n",
       "      <td>2021-2022</td>\n",
       "      <td>Abul Fazal Enclave*</td>\n",
       "    </tr>\n",
       "    <tr>\n",
       "      <th>1</th>\n",
       "      <td>Central -Asaf Ali (SR III)</td>\n",
       "      <td>2021-2022</td>\n",
       "      <td>Adarsh Nagar*</td>\n",
       "    </tr>\n",
       "    <tr>\n",
       "      <th>2</th>\n",
       "      <td>Central -Asaf Ali (SR III)</td>\n",
       "      <td>2021-2022</td>\n",
       "      <td>Ahata kidara*</td>\n",
       "    </tr>\n",
       "    <tr>\n",
       "      <th>3</th>\n",
       "      <td>Central -Asaf Ali (SR III)</td>\n",
       "      <td>2021-2022</td>\n",
       "      <td>Ajmal Khan Road</td>\n",
       "    </tr>\n",
       "    <tr>\n",
       "      <th>4</th>\n",
       "      <td>Central -Asaf Ali (SR III)</td>\n",
       "      <td>2021-2022</td>\n",
       "      <td>Ajmeri Gate</td>\n",
       "    </tr>\n",
       "    <tr>\n",
       "      <th>...</th>\n",
       "      <td>...</td>\n",
       "      <td>...</td>\n",
       "      <td>...</td>\n",
       "    </tr>\n",
       "    <tr>\n",
       "      <th>387</th>\n",
       "      <td>Central -Asaf Ali (SR III)</td>\n",
       "      <td>2021-2022</td>\n",
       "      <td>Yamuna Bazar*</td>\n",
       "    </tr>\n",
       "    <tr>\n",
       "      <th>388</th>\n",
       "      <td>Central -Asaf Ali (SR III)</td>\n",
       "      <td>2021-2022</td>\n",
       "      <td>Yusuf Sarai*</td>\n",
       "    </tr>\n",
       "    <tr>\n",
       "      <th>389</th>\n",
       "      <td>Central -Asaf Ali (SR III)</td>\n",
       "      <td>2021-2022</td>\n",
       "      <td>Zakhira*</td>\n",
       "    </tr>\n",
       "    <tr>\n",
       "      <th>390</th>\n",
       "      <td>Central -Asaf Ali (SR III)</td>\n",
       "      <td>2021-2022</td>\n",
       "      <td>Zakir Nagar*</td>\n",
       "    </tr>\n",
       "    <tr>\n",
       "      <th>391</th>\n",
       "      <td>Central -Asaf Ali (SR III)</td>\n",
       "      <td>2021-2022</td>\n",
       "      <td>Zamrud Pur*</td>\n",
       "    </tr>\n",
       "  </tbody>\n",
       "</table>\n",
       "<p>392 rows × 3 columns</p>\n",
       "</div>"
      ],
      "text/plain": [
       "                             SRO       YEAR              LOCATION\n",
       "0     Central -Asaf Ali (SR III)  2021-2022   Abul Fazal Enclave*\n",
       "1     Central -Asaf Ali (SR III)  2021-2022         Adarsh Nagar*\n",
       "2     Central -Asaf Ali (SR III)  2021-2022         Ahata kidara*\n",
       "3     Central -Asaf Ali (SR III)  2021-2022       Ajmal Khan Road\n",
       "4     Central -Asaf Ali (SR III)  2021-2022           Ajmeri Gate\n",
       "..                           ...        ...                   ...\n",
       "387   Central -Asaf Ali (SR III)  2021-2022         Yamuna Bazar*\n",
       "388   Central -Asaf Ali (SR III)  2021-2022          Yusuf Sarai*\n",
       "389   Central -Asaf Ali (SR III)  2021-2022              Zakhira*\n",
       "390   Central -Asaf Ali (SR III)  2021-2022          Zakir Nagar*\n",
       "391   Central -Asaf Ali (SR III)  2021-2022           Zamrud Pur*\n",
       "\n",
       "[392 rows x 3 columns]"
      ]
     },
     "execution_count": 2,
     "metadata": {},
     "output_type": "execute_result"
    }
   ],
   "source": [
    "Data"
   ]
  },
  {
   "cell_type": "code",
   "execution_count": 15,
   "id": "78448a3d",
   "metadata": {},
   "outputs": [
    {
     "ename": "TypeError",
     "evalue": "astype() missing 1 required positional argument: 'dtype'",
     "output_type": "error",
     "traceback": [
      "\u001b[1;31m---------------------------------------------------------------------------\u001b[0m",
      "\u001b[1;31mTypeError\u001b[0m                                 Traceback (most recent call last)",
      "\u001b[1;32m~\\AppData\\Local\\Temp/ipykernel_1560/1021608931.py\u001b[0m in \u001b[0;36m<module>\u001b[1;34m\u001b[0m\n\u001b[1;32m----> 1\u001b[1;33m \u001b[0mData\u001b[0m\u001b[1;33m.\u001b[0m\u001b[0mastype\u001b[0m\u001b[1;33m(\u001b[0m\u001b[1;33m)\u001b[0m\u001b[1;33m\u001b[0m\u001b[1;33m\u001b[0m\u001b[0m\n\u001b[0m",
      "\u001b[1;31mTypeError\u001b[0m: astype() missing 1 required positional argument: 'dtype'"
     ]
    }
   ],
   "source": [
    "Data.astype()"
   ]
  },
  {
   "cell_type": "code",
   "execution_count": 6,
   "id": "87696ad3",
   "metadata": {},
   "outputs": [
    {
     "ename": "ValueError",
     "evalue": "hist method requires numerical or datetime columns, nothing to plot.",
     "output_type": "error",
     "traceback": [
      "\u001b[1;31m---------------------------------------------------------------------------\u001b[0m",
      "\u001b[1;31mValueError\u001b[0m                                Traceback (most recent call last)",
      "\u001b[1;32m~\\AppData\\Local\\Temp/ipykernel_1560/3134077991.py\u001b[0m in \u001b[0;36m<module>\u001b[1;34m\u001b[0m\n\u001b[1;32m----> 1\u001b[1;33m \u001b[0mData\u001b[0m\u001b[1;33m.\u001b[0m\u001b[0mhist\u001b[0m\u001b[1;33m(\u001b[0m\u001b[1;33m)\u001b[0m\u001b[1;33m\u001b[0m\u001b[1;33m\u001b[0m\u001b[0m\n\u001b[0m",
      "\u001b[1;32m~\\anaconda3\\lib\\site-packages\\pandas\\plotting\\_core.py\u001b[0m in \u001b[0;36mhist_frame\u001b[1;34m(data, column, by, grid, xlabelsize, xrot, ylabelsize, yrot, ax, sharex, sharey, figsize, layout, bins, backend, legend, **kwargs)\u001b[0m\n\u001b[0;32m    224\u001b[0m     \"\"\"\n\u001b[0;32m    225\u001b[0m     \u001b[0mplot_backend\u001b[0m \u001b[1;33m=\u001b[0m \u001b[0m_get_plot_backend\u001b[0m\u001b[1;33m(\u001b[0m\u001b[0mbackend\u001b[0m\u001b[1;33m)\u001b[0m\u001b[1;33m\u001b[0m\u001b[1;33m\u001b[0m\u001b[0m\n\u001b[1;32m--> 226\u001b[1;33m     return plot_backend.hist_frame(\n\u001b[0m\u001b[0;32m    227\u001b[0m         \u001b[0mdata\u001b[0m\u001b[1;33m,\u001b[0m\u001b[1;33m\u001b[0m\u001b[1;33m\u001b[0m\u001b[0m\n\u001b[0;32m    228\u001b[0m         \u001b[0mcolumn\u001b[0m\u001b[1;33m=\u001b[0m\u001b[0mcolumn\u001b[0m\u001b[1;33m,\u001b[0m\u001b[1;33m\u001b[0m\u001b[1;33m\u001b[0m\u001b[0m\n",
      "\u001b[1;32m~\\anaconda3\\lib\\site-packages\\pandas\\plotting\\_matplotlib\\hist.py\u001b[0m in \u001b[0;36mhist_frame\u001b[1;34m(data, column, by, grid, xlabelsize, xrot, ylabelsize, yrot, ax, sharex, sharey, figsize, layout, bins, legend, **kwds)\u001b[0m\n\u001b[0;32m    441\u001b[0m \u001b[1;33m\u001b[0m\u001b[0m\n\u001b[0;32m    442\u001b[0m     \u001b[1;32mif\u001b[0m \u001b[0mnaxes\u001b[0m \u001b[1;33m==\u001b[0m \u001b[1;36m0\u001b[0m\u001b[1;33m:\u001b[0m\u001b[1;33m\u001b[0m\u001b[1;33m\u001b[0m\u001b[0m\n\u001b[1;32m--> 443\u001b[1;33m         raise ValueError(\n\u001b[0m\u001b[0;32m    444\u001b[0m             \u001b[1;34m\"hist method requires numerical or datetime columns, nothing to plot.\"\u001b[0m\u001b[1;33m\u001b[0m\u001b[1;33m\u001b[0m\u001b[0m\n\u001b[0;32m    445\u001b[0m         )\n",
      "\u001b[1;31mValueError\u001b[0m: hist method requires numerical or datetime columns, nothing to plot."
     ]
    }
   ],
   "source": [
    "Data.hist()"
   ]
  },
  {
   "cell_type": "code",
   "execution_count": 5,
   "id": "d4cf80ad",
   "metadata": {},
   "outputs": [
    {
     "ename": "TypeError",
     "evalue": "uniform() missing 1 required positional argument: 'b'",
     "output_type": "error",
     "traceback": [
      "\u001b[1;31m---------------------------------------------------------------------------\u001b[0m",
      "\u001b[1;31mTypeError\u001b[0m                                 Traceback (most recent call last)",
      "\u001b[1;32m~\\AppData\\Local\\Temp/ipykernel_1560/2292475867.py\u001b[0m in \u001b[0;36m<module>\u001b[1;34m\u001b[0m\n\u001b[0;32m      2\u001b[0m \u001b[1;32mimport\u001b[0m \u001b[0mrandom\u001b[0m\u001b[1;33m\u001b[0m\u001b[1;33m\u001b[0m\u001b[0m\n\u001b[0;32m      3\u001b[0m \u001b[1;33m\u001b[0m\u001b[0m\n\u001b[1;32m----> 4\u001b[1;33m \u001b[0mprint\u001b[0m\u001b[1;33m(\u001b[0m\u001b[0mrandom\u001b[0m\u001b[1;33m.\u001b[0m\u001b[0muniform\u001b[0m\u001b[1;33m(\u001b[0m\u001b[0mData\u001b[0m\u001b[1;33m)\u001b[0m\u001b[1;33m)\u001b[0m\u001b[1;33m\u001b[0m\u001b[1;33m\u001b[0m\u001b[0m\n\u001b[0m",
      "\u001b[1;31mTypeError\u001b[0m: uniform() missing 1 required positional argument: 'b'"
     ]
    }
   ],
   "source": [
    "import numpy as np\n",
    "import random\n",
    "\n",
    "print(random.uniform(Data))"
   ]
  },
  {
   "cell_type": "code",
   "execution_count": null,
   "id": "cdd8d9b2",
   "metadata": {},
   "outputs": [],
   "source": []
  },
  {
   "cell_type": "code",
   "execution_count": null,
   "id": "af8670b2",
   "metadata": {},
   "outputs": [],
   "source": []
  },
  {
   "cell_type": "markdown",
   "id": "30ce07b5",
   "metadata": {},
   "source": [
    "## Below code will  run  through SRO,Locality and Registration Year and store it in dataframe and subsequently store it in an excel file. \n"
   ]
  },
  {
   "cell_type": "code",
   "execution_count": null,
   "id": "3350d358",
   "metadata": {},
   "outputs": [],
   "source": [
    "# import selenium\n",
    "# from selenium import webdriver as wb\n",
    "# from selenium.webdriver.common.by import By\n",
    "# from selenium.webdriver.support.select import Select\n",
    "# webD=wb.Chrome('chromedriver.exe')\n",
    "# webD.get(\"https://esearch.delhigovt.nic.in/Complete_search.aspx\")\n",
    "# elements=webD.find_element(By.NAME,\"ctl00$ContentPlaceHolder1$ddl_sro_s\")\n",
    "# drp=Select(elements) \n",
    "# drp.select_by_index(1)\n",
    "# elements1=webD.find_element(By.NAME,\"ctl00$ContentPlaceHolder1$ddl_year_s\")\n",
    "# drp=Select(elements1) \n",
    "# drp.select_by_index(2)\n",
    "# for j in range(1,6384):\n",
    "#     element2=(Select(webD.find_element(By.NAME,\"ctl00$ContentPlaceHolder1$ddl_loc_s\"))).select_by_index(j)\n",
    "\n",
    "# SRO=[]\n",
    "# YEAR=[]\n",
    "# LOCATION=[]\n",
    "# element=webD.find_element(By.NAME,\"ctl00$ContentPlaceHolder1$ddl_sro_s\").text\n",
    "# #print(element)\n",
    "# sro=(list(element.split('\\n'))[1])\n",
    "# element1=webD.find_element(By.NAME,\"ctl00$ContentPlaceHolder1$ddl_year_s\").text\n",
    "# year=(list(element1.split(' '))[4])\n",
    "# element2=webD.find_element(By.NAME,\"ctl00$ContentPlaceHolder1$ddl_loc_s\").text\n",
    "# location=(element2.split('\\n'))\n",
    "# for i in range(1,393):\n",
    "#     LOCATION.append(location[i])\n",
    "#     YEAR.append(year)\n",
    "#     SRO.append(sro)\n",
    "# Data=pd.DataFrame({'SRO':SRO,'YEAR':YEAR,'LOCATION':LOCATION})  \n",
    "# Data.to_csv('Web_Scrap.csv')"
   ]
  },
  {
   "cell_type": "code",
   "execution_count": 3,
   "id": "321b0ee4",
   "metadata": {},
   "outputs": [],
   "source": [
    "#Data"
   ]
  },
  {
   "cell_type": "code",
   "execution_count": null,
   "id": "21c8169c",
   "metadata": {},
   "outputs": [],
   "source": []
  }
 ],
 "metadata": {
  "kernelspec": {
   "display_name": "Python 3 (ipykernel)",
   "language": "python",
   "name": "python3"
  },
  "language_info": {
   "codemirror_mode": {
    "name": "ipython",
    "version": 3
   },
   "file_extension": ".py",
   "mimetype": "text/x-python",
   "name": "python",
   "nbconvert_exporter": "python",
   "pygments_lexer": "ipython3",
   "version": "3.9.7"
  }
 },
 "nbformat": 4,
 "nbformat_minor": 5
}
